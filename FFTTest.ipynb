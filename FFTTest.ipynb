{
 "cells": [
  {
   "cell_type": "markdown",
   "id": "e9bbc39e-c72d-4e2b-874f-d40dc7c3dfea",
   "metadata": {},
   "source": [
    "# Benchmark CUDA FFTs using cupy and Compare with Numpy CPU\n",
    "---"
   ]
  },
  {
   "cell_type": "markdown",
   "id": "b671a1d0-aeff-4702-a710-79e93c310288",
   "metadata": {},
   "source": [
    "This notebook evaluate 2D FFT runtime for:\n",
    "- Numpy on a CPU\n",
    "- cupy FFT run serially\n",
    "- cupy FFT run in batch mode."
   ]
  },
  {
   "cell_type": "code",
   "execution_count": 1,
   "id": "01945344-efaf-494e-a984-1fcfae707d86",
   "metadata": {},
   "outputs": [],
   "source": [
    "import cupy as cp \n",
    "import time \n",
    "import numpy as np\n",
    "import matplotlib.pyplot as plt"
   ]
  },
  {
   "cell_type": "code",
   "execution_count": 2,
   "id": "1dd65332-2374-4132-aae6-b59bca6aa19a",
   "metadata": {},
   "outputs": [],
   "source": [
    "def measure_fft_timeNP(shape, num_trials=10): \n",
    "    data = np.random.random(shape) + 1j * np.random.random(shape)\n",
    "    #cp.cuda.Device(0).synchronize() \n",
    "    start_time = time.time() \n",
    "    for _ in range(num_trials): \n",
    "        np.fft.fft2(data) \n",
    "        #cp.cuda.Device(0).synchronize() \n",
    "        return (time.time() - start_time) / num_trials "
   ]
  },
  {
   "cell_type": "code",
   "execution_count": 3,
   "id": "a0dcab8c-7669-4e03-8590-9d9fafaeaaaa",
   "metadata": {},
   "outputs": [],
   "source": [
    "def measure_fft_time(shape, num_trials=10): \n",
    "    data = cp.random.random(shape) + 1j * cp.random.random(shape)\n",
    "    cp.cuda.Device(0).synchronize() \n",
    "    start_time = time.time() \n",
    "    for _ in range(num_trials): \n",
    "        cp.fft.fft2(data) \n",
    "        cp.cuda.Device(0).synchronize() \n",
    "    return (time.time() - start_time) / num_trials "
   ]
  },
  {
   "cell_type": "code",
   "execution_count": 4,
   "id": "5d607e1c-4bcd-4880-9d99-c890785f94e7",
   "metadata": {},
   "outputs": [],
   "source": [
    "def batch_fft_2d(n, m, batch_size):\n",
    "    \"\"\"\n",
    "    Perform batch 2D FFTs on the GPU using CuPy, and measure execution time.\n",
    "\n",
    "    Parameters:\n",
    "    - n: number of rows in each FFT\n",
    "    - m: number of columns in each FFT\n",
    "    - batch_size: the number of 2D FFTs to process in parallel\n",
    "\n",
    "    Returns:\n",
    "    - output_data: The result of the batch of FFTs.\n",
    "    - execution_time: Time taken to execute the FFTs in milliseconds.\n",
    "    \"\"\"\n",
    "    # Create a batch of random input data (complex)\n",
    "    input_data = cp.random.randn(batch_size, n, m).astype(cp.complex64)\n",
    "\n",
    "    # Create CUDA events to measure time\n",
    "    start_event = cp.cuda.Event()\n",
    "    end_event = cp.cuda.Event()\n",
    "\n",
    "    # Record the start time\n",
    "    start_event.record()\n",
    "\n",
    "    # Execute the batch of 2D FFTs on the GPU using CuPy's FFT\n",
    "    output_data = cp.fft.fft2(input_data)\n",
    "\n",
    "    # Record the end time\n",
    "    end_event.record()\n",
    "\n",
    "    # Wait for the event to complete\n",
    "    end_event.synchronize()\n",
    "\n",
    "    # Calculate the elapsed time in milliseconds\n",
    "    execution_time = cp.cuda.get_elapsed_time(start_event, end_event)  # Time in milliseconds\n",
    "\n",
    "    # Transfer the result back to the CPU\n",
    "    output_data_cpu = cp.asnumpy(start_event, end_event)  # CuPy array -> NumPy array\n",
    "\n",
    "    return output_data_cpu, execution_time/batch_size/1000.\n"
   ]
  },
  {
   "cell_type": "code",
   "execution_count": 5,
   "id": "03b12a68-fc11-4109-b22e-3f2a9b10db75",
   "metadata": {},
   "outputs": [],
   "source": [
    "def prime_factors(n):\n",
    "    factors = []\n",
    "\n",
    "    while n % 2 == 0:\n",
    "        factors.append(2)\n",
    "        n //= 2\n",
    "    for i in range(3, int(n**0.5) + 1, 2):\n",
    "        while n % i == 0:\n",
    "            factors.append(i)\n",
    "            n //= i\n",
    "\n",
    "    if n > 2:\n",
    "        factors.append(n)\n",
    "    return factors"
   ]
  },
  {
   "cell_type": "markdown",
   "id": "d7ef273d-a685-4153-8899-9a41d8d131d4",
   "metadata": {},
   "source": [
    "## CPU Numpy FFT"
   ]
  },
  {
   "cell_type": "code",
   "execution_count": null,
   "id": "474bdfd1-a57b-4541-b04c-6dcac81eb1df",
   "metadata": {},
   "outputs": [
    {
     "name": "stdout",
     "output_type": "stream",
     "text": [
      "70-80-90-100-110-120-130-140-150-160-170-180-190-200-"
     ]
    }
   ],
   "source": [
    "fftMinNP, fftMaxNP = 64, 512\n",
    "x = np.linspace(fftMinNP, fftMaxNP, num=fftMaxNP-fftMinNP+1)\n",
    "y = np.linspace(fftMinNP, fftMaxNP, num=fftMaxNP-fftMinNP+1)\n",
    "X, Y = np.meshgrid(x, y)\n",
    "resultNP = np.zeros(X.shape)\n",
    "i = 0\n",
    "for i in range(fftMinNP, fftMaxNP):\n",
    "    if(i % 10 == 0):\n",
    "        print(f'{i}-', end='')\n",
    "    for j in range(fftMinNP, fftMaxNP): \n",
    "        resultNP[i - fftMinNP, j-fftMinNP] = measure_fft_timeNP((i,j), num_trials=1)     "
   ]
  },
  {
   "cell_type": "code",
   "execution_count": null,
   "id": "66680b54-5b6d-4716-8fa2-0b7e0c7c7190",
   "metadata": {},
   "outputs": [],
   "source": [
    "fig, ax = plt.subplots(1, 1, figsize=(12, 12))\n",
    "im = ax.imshow(resultNP, interpolation='None',  vmin=0, vmax=0.008, extent=[fftMinNP, fftMaxNP, fftMinNP, fftMaxNP])\n",
    "cb = fig.colorbar(im)\n",
    "cb.set_label('fft time (s)')"
   ]
  },
  {
   "cell_type": "code",
   "execution_count": null,
   "id": "21fc75ea-32a9-4515-ac5a-1b3559cd5ea9",
   "metadata": {},
   "outputs": [],
   "source": [
    "plt.plot(resultNP[192-64, :], '.')"
   ]
  },
  {
   "cell_type": "markdown",
   "id": "8a3ce1e6-446a-432a-920a-d8915ea300c4",
   "metadata": {},
   "source": [
    "Compute multiple FFTs in parallel."
   ]
  },
  {
   "cell_type": "markdown",
   "id": "cf7b0d9f-65bf-4ad9-9eb0-35014f5c3b9e",
   "metadata": {},
   "source": [
    "## CUDA sequential FFTs"
   ]
  },
  {
   "cell_type": "markdown",
   "id": "38e913ee-23f7-4934-8baf-8c51465c540e",
   "metadata": {},
   "source": [
    "This calculates each FFT as a sequential request to the GPU."
   ]
  },
  {
   "cell_type": "code",
   "execution_count": null,
   "id": "6fd02255-efee-40a5-a3dc-b3a6d20b24e8",
   "metadata": {},
   "outputs": [],
   "source": [
    "fftMin, fftMax = 64, 512\n",
    "num_trials = 25\n",
    "x = np.linspace(fftMin, fftMax, num=fftMax-fftMin+1)\n",
    "y = np.linspace(fftMin, fftMax, num=fftMax-fftMin+1)\n",
    "X, Y = np.meshgrid(x, y)\n",
    "resultSingle = np.zeros(X.shape)\n",
    "maxF = np.zeros(X.shape)\n",
    "for i in range(fftMin, fftMax+1):\n",
    "    if(i % 10 == 0):\n",
    "        print(f'{i}-', end='')\n",
    "    for j in range(fftMin, fftMax+1): \n",
    "        resultSingle[i - fftMin, j - fftMax] = measure_fft_time((i,j), num_trials=num_trials) \n",
    "        maxF[i - fftMin, j - fftMax] = max(prime_factors(i) + prime_factors(j))"
   ]
  },
  {
   "cell_type": "code",
   "execution_count": null,
   "id": "5a1c488b-c597-4ad1-9de6-ea88717134f9",
   "metadata": {},
   "outputs": [],
   "source": [
    "fig, ax = plt.subplots(1, 2, figsize=(18, 12))\n",
    "im = ax[0].imshow(resultSingle, vmax=.0005, interpolation='None', extent=[fftMin, fftMax, fftMin, fftMax], origin='lower')\n",
    "cb = fig.colorbar(im)\n",
    "cb.set_label('fft time (s)')\n",
    "im1 = ax[1].imshow(maxF, interpolation='None', extent=[fftMin, fftMax, fftMin, fftMax], origin='lower')\n",
    "cb = fig.colorbar(im1)"
   ]
  },
  {
   "cell_type": "code",
   "execution_count": null,
   "id": "4ec3f017-44f2-454d-802f-8ac5bd85395d",
   "metadata": {},
   "outputs": [],
   "source": [
    "x = resultSingle[250, :]\n",
    "plt.plot(range(fftMin, fftMax+1), x, '.')"
   ]
  },
  {
   "cell_type": "code",
   "execution_count": null,
   "id": "9bd66376-8e75-40c1-969e-5739c9427d8e",
   "metadata": {},
   "outputs": [],
   "source": [
    "for i in [(192, 98), (224, 192), (212, 144), (216, 144), (212+8, 144+8), (224, 160),   (96, 64)]:\n",
    "    fft_time = measure_fft_time(i, num_trials=200)\n",
    "    rgLargest = max(prime_factors(i[0]))\n",
    "    azLargest = max(prime_factors(i[1]))        \n",
    "    print(f'rg={i[0]}, az={i[1]} fft={fft_time:.8f}  largest primes (rg, az)= {rgLargest}, {azLargest}')\n",
    "for i in [(192, 98), (224, 192), (212, 144), (216, 144), (212+8, 144+8), (224, 160),   (96, 64)]:\n",
    "    fft_time = measure_fft_time(i, num_trials=200)\n",
    "    rgLargest = max(prime_factors(i[0]))\n",
    "    azLargest = max(prime_factors(i[1]))        \n",
    "    print(f'rg={i[0]}, az={i[1]} fft={fft_time:.8f}  largest primes (rg, az)= {rgLargest}, {azLargest}')"
   ]
  },
  {
   "cell_type": "markdown",
   "id": "c62fa1ed-0a96-4ca2-952c-2aead48e0429",
   "metadata": {},
   "source": [
    "## Batch FFT"
   ]
  },
  {
   "cell_type": "markdown",
   "id": "36bced07-bdb1-44f4-9575-c8310709a36b",
   "metadata": {},
   "source": [
    "Compute multiple FFTs in parallel."
   ]
  },
  {
   "cell_type": "code",
   "execution_count": null,
   "id": "872d2129-65ed-4b88-88d7-0d4ba205bcb4",
   "metadata": {},
   "outputs": [],
   "source": [
    "resultBatch = np.zeros(X.shape)\n",
    "for i in range(fftMin, fftMax+1):\n",
    "    if(i % 10 == 0):\n",
    "        print(f'{i}-', end='')\n",
    "    for j in range(fftMin, fftMax+1): \n",
    "        resultBatch[i - fftMin, j - fftMin] = batch_fft_2d(i, j, num_trials)[1] "
   ]
  },
  {
   "cell_type": "code",
   "execution_count": null,
   "id": "0b9f7ba3-6335-4d33-8c5b-e0723c307002",
   "metadata": {},
   "outputs": [],
   "source": [
    "fig, ax = plt.subplots(1, 2, figsize=(18, 12))\n",
    "im = ax[0].imshow(resultsBatch, vmax=.0005, interpolation='None', extent=[fftMin, fftMax, fftMin, fftMax], origin='lower')\n",
    "cb = fig.colorbar(im)\n",
    "cb.set_label('fft time (s)')\n",
    "im1 = ax[1].imshow(maxF, interpolation='None', extent=[fftMin, fftMax, fftMin, fftMax], origin='lower')\n",
    "cb = fig.colorbar(im1)"
   ]
  },
  {
   "cell_type": "code",
   "execution_count": null,
   "id": "b429fcfa-366d-44e1-8c40-ff71ae324a9e",
   "metadata": {},
   "outputs": [],
   "source": [
    "resultBatch.shape"
   ]
  },
  {
   "cell_type": "code",
   "execution_count": null,
   "id": "2945c40f-fc7b-4de4-a04c-5fe6ed3763d4",
   "metadata": {},
   "outputs": [],
   "source": [
    "x = resultBatch[192-64, :]\n",
    "plt.plot(x)\n",
    "print(np.argmax(x))\n",
    "print(prime_factors(np.argmax(x)))"
   ]
  },
  {
   "cell_type": "code",
   "execution_count": null,
   "id": "149a0931-c460-49e4-abd7-46d15bfddfdb",
   "metadata": {},
   "outputs": [],
   "source": []
  }
 ],
 "metadata": {
  "kernelspec": {
   "display_name": "base",
   "language": "python",
   "name": "base"
  },
  "language_info": {
   "codemirror_mode": {
    "name": "ipython",
    "version": 3
   },
   "file_extension": ".py",
   "mimetype": "text/x-python",
   "name": "python",
   "nbconvert_exporter": "python",
   "pygments_lexer": "ipython3",
   "version": "3.12.2"
  }
 },
 "nbformat": 4,
 "nbformat_minor": 5
}
